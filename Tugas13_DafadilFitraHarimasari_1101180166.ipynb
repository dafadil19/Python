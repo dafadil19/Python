{
  "nbformat": 4,
  "nbformat_minor": 0,
  "metadata": {
    "colab": {
      "name": "Tugas13_DafadilFitraHarimasari_1101180166.ipynb",
      "provenance": [],
      "include_colab_link": true
    },
    "kernelspec": {
      "name": "python3",
      "display_name": "Python 3"
    }
  },
  "cells": [
    {
      "cell_type": "markdown",
      "metadata": {
        "id": "view-in-github",
        "colab_type": "text"
      },
      "source": [
        "<a href=\"https://colab.research.google.com/github/dafadil19/Python/blob/main/Tugas13_DafadilFitraHarimasari_1101180166.ipynb\" target=\"_parent\"><img src=\"https://colab.research.google.com/assets/colab-badge.svg\" alt=\"Open In Colab\"/></a>"
      ]
    },
    {
      "cell_type": "markdown",
      "metadata": {
        "id": "bJvxhpbvwZIv"
      },
      "source": [
        "# Grafik 1 - FREKUENSI 1800 Mhz"
      ]
    },
    {
      "cell_type": "code",
      "metadata": {
        "id": "_a_N7F-JBnG8"
      },
      "source": [
        "import numpy as np\n",
        "import matplotlib.pyplot as plt\n"
      ],
      "execution_count": null,
      "outputs": []
    },
    {
      "cell_type": "code",
      "metadata": {
        "id": "EJUGiqITQfx5"
      },
      "source": [
        "def cos(frek,tipe,ht,hr,d):\n",
        "    if frek in range(150,1501):\n",
        "        Ca=69.55\n",
        "        Cb=26.16\n",
        "    elif frek in range(1501,2001):\n",
        "        Ca=46.3\n",
        "        Cb=33.9\n",
        "    \n",
        "    if tipe=='urban' :\n",
        "        Cm=0\n",
        "    elif tipe=='suburban' :\n",
        "        Cm= -2*((np.log10((frek/28)**2))-5.4)\n",
        "    elif tipe=='open' :\n",
        "        Cm= -4.78*(np.log10(frek))+18.33*(np.log10(frek))-40.94\n",
        "    else :\n",
        "        Cm='tipe salah'\n",
        "    \n",
        "    ahr = (1.1*np.log10(frek)-0.7)*hr-(1.56*np.log10(frek)-1.8)\n",
        "    Lp = Ca+(Cb*np.log10(frek))-(13.83*np.log(ht))-ahr+((44.9-6.55*np.log10(ht))*np.log10(d))-Cm\n",
        "    \n",
        "    return Lp"
      ],
      "execution_count": null,
      "outputs": []
    },
    {
      "cell_type": "code",
      "metadata": {
        "id": "53d-Ye-LQlXh"
      },
      "source": [
        "f=1800 #MHz\n",
        "zona_1='urban'\n",
        "zona_2='suburban'\n",
        "zona_3='open'\n",
        "tower=80 #m\n",
        "user=1.5 #m\n",
        "dmin=200 #m\n",
        "dmax=700 #m\n",
        "N=200 #titik\n",
        "d=np.random.randint(dmin,dmax,N)"
      ],
      "execution_count": null,
      "outputs": []
    },
    {
      "cell_type": "code",
      "metadata": {
        "colab": {
          "base_uri": "https://localhost:8080/"
        },
        "id": "qhdPl7JETiqL",
        "outputId": "d23fbd81-e2bf-4566-901b-3a7a9fd19d59"
      },
      "source": [
        "print(d)"
      ],
      "execution_count": null,
      "outputs": [
        {
          "output_type": "stream",
          "text": [
            "[384 353 556 566 375 452 461 482 258 651 564 354 609 528 544 689 399 498\n",
            " 283 328 446 453 205 648 594 575 679 263 678 380 588 325 404 438 204 272\n",
            " 682 259 562 629 566 365 554 440 611 564 531 338 613 468 395 541 562 667\n",
            " 367 401 253 593 466 405 204 515 308 681 362 323 469 688 665 343 339 470\n",
            " 684 251 487 585 225 402 254 425 440 352 600 287 467 387 398 348 655 449\n",
            " 297 598 214 319 658 478 667 571 641 228 632 543 356 579 439 672 671 350\n",
            " 363 584 334 434 300 515 356 348 625 627 422 243 525 244 602 489 345 645\n",
            " 546 603 276 563 434 563 649 602 459 387 469 453 693 342 624 555 251 213\n",
            " 207 475 483 503 402 445 621 490 568 393 207 563 310 656 609 339 650 264\n",
            " 692 218 486 511 271 217 320 215 353 357 420 592 567 673 564 286 672 358\n",
            " 475 278 226 611 626 271 409 452 327 323 480 468 617 445 397 361 683 553\n",
            " 327 609]\n"
          ],
          "name": "stdout"
        }
      ]
    },
    {
      "cell_type": "code",
      "metadata": {
        "id": "IgW6t5oSRMBQ"
      },
      "source": [
        "LpUrban=cos(f,zona_1,tower,user,d)\r\n",
        "LpSuburban=cos(f,zona_2,tower,user,d)\r\n",
        "LpOpen=cos(f,zona_3,tower,user,d)"
      ],
      "execution_count": null,
      "outputs": []
    },
    {
      "cell_type": "code",
      "metadata": {
        "id": "MbvWh9qIRkKJ"
      },
      "source": [
        "d_sort=d[np.argsort(d)]\n",
        "Urban_sort=LpUrban[np.argsort(d)]\n",
        "Suburban_sort=LpSuburban[np.argsort(d)]\n",
        "Open_sort=LpOpen[np.argsort(d)]"
      ],
      "execution_count": null,
      "outputs": []
    },
    {
      "cell_type": "markdown",
      "metadata": {
        "id": "fqJ4Fx86Njge"
      },
      "source": [
        "# Gambar Kurva"
      ]
    },
    {
      "cell_type": "code",
      "metadata": {
        "colab": {
          "base_uri": "https://localhost:8080/",
          "height": 295
        },
        "id": "79YaOB0uSBn6",
        "outputId": "7e01635d-c597-4066-b231-21f505d05aea"
      },
      "source": [
        "plt.figure()\n",
        "plt.plot(d_sort,Urban_sort,'r-', label='Urban')\n",
        "plt.plot(d_sort,Suburban_sort,'k-', label='Suburban')\n",
        "plt.plot(d_sort,Open_sort,'g-', label='Open')\n",
        "plt.legend()\n",
        "plt.title('Frekuensi 1800 MHz')\n",
        "plt.xlabel('Jarak (m)')\n",
        "plt.ylabel('Path Loss (dB)')\n",
        "plt.show()\n"
      ],
      "execution_count": null,
      "outputs": [
        {
          "output_type": "display_data",
          "data": {
            "image/png": "[encoded data removed]",
            "text/plain": [
              "<Figure size 432x288 with 1 Axes>"
            ]
          },
          "metadata": {
            "tags": [],
            "needs_background": "light"
          }
        }
      ]
    },
    {
      "cell_type": "markdown",
      "metadata": {
        "id": "19wUqWa9woIn"
      },
      "source": [
        "# Grafik 2 - Model Urban"
      ]
    },
    {
      "cell_type": "code",
      "metadata": {
        "id": "Zk1jSdPexLIp"
      },
      "source": [
        "f=700 #MHz\n",
        "f2=900 #MHz\n",
        "f3=1800 #MHz\n",
        "zona_1='urban'\n",
        "tower=80 #m\n",
        "user=1.5 #m\n",
        "dmin=200 #m\n",
        "dmax=700 #m\n",
        "N=200 #titik\n",
        "d=np.random.randint(dmin,dmax,N)"
      ],
      "execution_count": null,
      "outputs": []
    },
    {
      "cell_type": "code",
      "metadata": {
        "id": "Y1iMo8EvwyuB"
      },
      "source": [
        "LpUrban=cos(f,zona_1,tower,user,d)\r\n",
        "LpUrban2=cos(f2,zona_1,tower,user,d)\r\n",
        "LpUrban3=cos(f3,zona_1,tower,user,d)"
      ],
      "execution_count": null,
      "outputs": []
    },
    {
      "cell_type": "code",
      "metadata": {
        "id": "AmH-XbCqxfa5"
      },
      "source": [
        "d_sort=d[np.argsort(d)]\r\n",
        "Urban_sort=LpUrban[np.argsort(d)]\r\n",
        "Urban2_sort=LpUrban2[np.argsort(d)]\r\n",
        "Urban3_sort=LpUrban3[np.argsort(d)]"
      ],
      "execution_count": null,
      "outputs": []
    },
    {
      "cell_type": "markdown",
      "metadata": {
        "id": "myQOO0170ERp"
      },
      "source": [
        "# Gambar Kurva "
      ]
    },
    {
      "cell_type": "code",
      "metadata": {
        "colab": {
          "base_uri": "https://localhost:8080/",
          "height": 295
        },
        "id": "SVEprCkIyFnx",
        "outputId": "c03cdf30-50f8-42cb-a4ed-1903f8638076"
      },
      "source": [
        "imaplt.figure()\n",
        "plt.plot(d_sort,Urban_sort,'r-', label='700 Mhz')\n",
        "plt.plot(d_sort,Urban2_sort,'k-', label='900 Mhz')\n",
        "plt.plot(d_sort,Urban3_sort,'g-', label='1800 Mhz')\n",
        "plt.legend()\n",
        "plt.title('Model Urban')\n",
        "plt.xlabel('Jarak (m)')\n",
        "plt.ylabel('Path Loss (dB)')\n",
        "plt.show()\n"
      ],
      "execution_count": null,
      "outputs": [
        {
          "output_type": "display_data",
          "data": {
            "image/png": "[encoded data removed]",
            "text/plain": [
              "<Figure size 432x288 with 1 Axes>"
            ]
          },
          "metadata": {
            "tags": [],
            "needs_background": "light"
          }
        }
      ]
    }
  ]
}